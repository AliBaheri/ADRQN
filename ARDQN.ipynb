{
 "cells": [
  {
   "cell_type": "code",
   "execution_count": null,
   "metadata": {
    "colab": {
     "autoexec": {
      "startup": false,
      "wait_interval": 0
     },
     "base_uri": "https://localhost:8080/",
     "height": 527
    },
    "colab_type": "code",
    "executionInfo": {
     "elapsed": 7667,
     "status": "ok",
     "timestamp": 1526868989497,
     "user": {
      "displayName": "Adithya Hosapate",
      "photoUrl": "https://lh3.googleusercontent.com/a/default-user=s128",
      "userId": "109072346189302980527"
     },
     "user_tz": -330
    },
    "id": "4OF7AleOMb33",
    "outputId": "aea70554-fd6e-47ec-ce58-cc6dd0e5aacc"
   },
   "outputs": [],
   "source": [
    "import matplotlib.pyplot as plt\n",
    "!apt-get install -y python-numpy python-dev cmake zlib1g-dev libjpeg-dev xvfb libav-tools xorg-dev python-opengl libboost-all-dev libsdl2-dev swig\n",
    "\n",
    "!pip3 install gym[atari]\n",
    "\n"
   ]
  },
  {
   "cell_type": "code",
   "execution_count": 1,
   "metadata": {
    "colab": {
     "autoexec": {
      "startup": false,
      "wait_interval": 0
     }
    },
    "colab_type": "code",
    "id": "zpBrvmrOMQC8"
   },
   "outputs": [
    {
     "name": "stderr",
     "output_type": "stream",
     "text": [
      "/home/adithya/.local/lib/python3.6/site-packages/h5py/__init__.py:36: FutureWarning: Conversion of the second argument of issubdtype from `float` to `np.floating` is deprecated. In future, it will be treated as `np.float64 == np.dtype(float).type`.\n",
      "  from ._conv import register_converters as _register_converters\n"
     ]
    }
   ],
   "source": [
    "import tensorflow as tf\n",
    "import numpy as np\n",
    "import gym\n",
    "import tensorflow.contrib.slim as slim"
   ]
  },
  {
   "cell_type": "code",
   "execution_count": 2,
   "metadata": {
    "colab": {
     "autoexec": {
      "startup": false,
      "wait_interval": 0
     }
    },
    "colab_type": "code",
    "id": "ywpcmfA_MQDD"
   },
   "outputs": [],
   "source": [
    "batch_size=10\n",
    "discount_factor=0.9\n",
    "alpha=0.9\n",
    "replay_memory_size=10000"
   ]
  },
  {
   "cell_type": "code",
   "execution_count": 3,
   "metadata": {
    "colab": {
     "autoexec": {
      "startup": false,
      "wait_interval": 0
     }
    },
    "colab_type": "code",
    "id": "PwYjo3QlMQDG"
   },
   "outputs": [],
   "source": [
    "in_width=210\n",
    "in_height=160\n",
    "input_channels=3\n",
    "output_shape=2\n",
    "truncated_backprop_length = 10\n"
   ]
  },
  {
   "cell_type": "code",
   "execution_count": 4,
   "metadata": {
    "colab": {
     "autoexec": {
      "startup": false,
      "wait_interval": 0
     }
    },
    "colab_type": "code",
    "id": "K7u7PlnSMQDI"
   },
   "outputs": [],
   "source": [
    "#Placeholders\n",
    "\n",
    "sess=tf.InteractiveSession()\n",
    "input_tensor=tf.placeholder(tf.float32,shape=(None,in_width,in_height,input_channels),name=\"placeholder_x\")\n",
    "labels=tf.placeholder(tf.float32,shape=(None,2),name=\"placeholder_y\")\n",
    "hidden_state=tf.placeholder(tf.float32,shape=(1,100),name=\"placeholder_hidden\")\n",
    "cell_state=tf.placeholder(tf.float32,shape=(1,100),name=\"placeholder_cell\")\n",
    "q_val=tf.placeholder(tf.float32,shape=(1),name=\"placeholder_q\")\n",
    "train_length = tf.placeholder(dtype=tf.int32)\n"
   ]
  },
  {
   "cell_type": "code",
   "execution_count": 5,
   "metadata": {
    "colab": {
     "autoexec": {
      "startup": false,
      "wait_interval": 0
     }
    },
    "colab_type": "code",
    "id": "HyP14zi7MQDL"
   },
   "outputs": [],
   "source": [
    "\n",
    "\n",
    "\n",
    "bias_conv_1 = tf.get_variable(name='bias_conv_1',shape=[6], initializer=tf.constant_initializer(0.0))\n",
    "bias_conv_2 = tf.get_variable(name='bias_conv_2',shape=[12], initializer=tf.constant_initializer(0.0))\n",
    "bias_conv_3 = tf.get_variable(name='bias_conv_3',shape=[24], initializer=tf.constant_initializer(0.0))\n",
    "\n"
   ]
  },
  {
   "cell_type": "code",
   "execution_count": 6,
   "metadata": {
    "colab": {
     "autoexec": {
      "startup": false,
      "wait_interval": 0
     }
    },
    "colab_type": "code",
    "id": "_hA1XfWBMQDN"
   },
   "outputs": [],
   "source": [
    "\n",
    "def create_conv_layer(name,n_filters,filter_width,filter_height,filter_depth):\n",
    "    conv_weights=tf.get_variable(name=name,\n",
    "        shape=[filter_height,filter_width,filter_depth,n_filters],\n",
    "        dtype=\"float32\",\n",
    "        initializer=tf.contrib.layers.xavier_initializer())\n",
    "    return conv_weights\n",
    "\n",
    "\n",
    "\n",
    "\n",
    "conv_1_weights=create_conv_layer(\"conv1\",6,3,3,3)\n",
    "conv_2_weights=create_conv_layer(\"conv2\",12,3,3,6)\n",
    "conv_3_weights=create_conv_layer(\"conv3\",24,3,3,12)\n",
    "    "
   ]
  },
  {
   "cell_type": "code",
   "execution_count": 7,
   "metadata": {
    "colab": {
     "autoexec": {
      "startup": false,
      "wait_interval": 0
     }
    },
    "colab_type": "code",
    "id": "BpZUm2TUMQDP"
   },
   "outputs": [],
   "source": [
    "conv_4_weights=create_conv_layer(\"conv4\",3,1,1,24)\n"
   ]
  },
  {
   "cell_type": "code",
   "execution_count": 8,
   "metadata": {
    "colab": {
     "autoexec": {
      "startup": false,
      "wait_interval": 0
     }
    },
    "colab_type": "code",
    "id": "3rw9htCMMQDQ"
   },
   "outputs": [],
   "source": [
    "fc1=tf.get_variable(name='action_fc1',shape=[2,100],\n",
    "                   dtype=\"float32\",\n",
    "        initializer=tf.contrib.layers.xavier_initializer())\n",
    "b1=tf.get_variable(name='action_bias',shape=[100],initializer=tf.constant_initializer(0.0))"
   ]
  },
  {
   "cell_type": "code",
   "execution_count": 9,
   "metadata": {
    "colab": {
     "autoexec": {
      "startup": false,
      "wait_interval": 0
     }
    },
    "colab_type": "code",
    "id": "5HyDOMZWMQDS"
   },
   "outputs": [],
   "source": [
    "\n",
    "\n",
    "\n",
    "\n",
    "\n",
    "w2=tf.get_variable(name='output__weights',shape=[100,2],\n",
    "                   dtype=\"float32\",\n",
    "        initializer=tf.contrib.layers.xavier_initializer())\n",
    "b2=tf.get_variable(name='output',shape=[2],initializer=tf.constant_initializer(0.0))\n",
    "\n",
    "\n"
   ]
  },
  {
   "cell_type": "code",
   "execution_count": 10,
   "metadata": {
    "colab": {
     "autoexec": {
      "startup": false,
      "wait_interval": 0
     }
    },
    "colab_type": "code",
    "id": "jxMixXV9DxPU"
   },
   "outputs": [],
   "source": [
    "w3=tf.get_variable(name='w3',shape=[370,100],\n",
    "                   dtype=\"float32\",\n",
    "        initializer=tf.contrib.layers.xavier_initializer())\n",
    "b3=tf.get_variable(name='b3',shape=[100],initializer=tf.constant_initializer(0.0))"
   ]
  },
  {
   "cell_type": "code",
   "execution_count": 11,
   "metadata": {
    "colab": {
     "autoexec": {
      "startup": false,
      "wait_interval": 0
     }
    },
    "colab_type": "code",
    "id": "stH2ElMyMQDU"
   },
   "outputs": [],
   "source": [
    "in_training_mode = tf.placeholder(tf.bool)\n",
    "\n",
    "\n",
    "conv1=tf.nn.relu(tf.nn.conv2d(input_tensor,conv_1_weights,strides=[1,1,1,1],padding='SAME')+bias_conv_1)\n",
    "pool1=tf.nn.max_pool(conv1,strides=[1,2,2,1],ksize=[1,2,2,1],padding='SAME')\n",
    "bn1=tf.layers.batch_normalization(pool1,training=in_training_mode)\n",
    "\n",
    "conv2=tf.nn.relu(tf.nn.conv2d(bn1,conv_2_weights,strides=[1,1,1,1],padding='SAME')+bias_conv_2)\n",
    "pool2=tf.nn.max_pool(conv2,strides=[1,2,2,1],ksize=[1,2,2,1],padding='SAME')\n",
    "bn2=tf.layers.batch_normalization(pool2,training=in_training_mode)\n",
    "\n",
    "conv3=tf.nn.relu(tf.nn.conv2d(bn2,conv_3_weights,strides=[1,1,1,1],padding='SAME')+bias_conv_3)\n",
    "pool3=tf.nn.max_pool(conv3,strides=[1,3,2,1],ksize=[1,3,2,1],padding='SAME')\n",
    "bn3=tf.layers.batch_normalization(pool3,training=in_training_mode)\n",
    "\n",
    "conv4=tf.nn.relu(tf.nn.conv2d(bn3,conv_4_weights,strides=[1,1,1,1],padding='SAME'))\n",
    "pool4=tf.nn.max_pool(conv4,strides=[1,2,2,1],ksize=[1,2,2,1],padding='SAME')\n",
    "bn4=tf.layers.batch_normalization(pool4,training=in_training_mode)\n",
    "\n"
   ]
  },
  {
   "cell_type": "code",
   "execution_count": 12,
   "metadata": {
    "colab": {
     "autoexec": {
      "startup": false,
      "wait_interval": 0
     }
    },
    "colab_type": "code",
    "id": "V9ZX41X2MQDX"
   },
   "outputs": [],
   "source": [
    "\n",
    "fc_1=tf.nn.tanh(tf.add(tf.matmul(labels,fc1),b1))\n"
   ]
  },
  {
   "cell_type": "code",
   "execution_count": 13,
   "metadata": {
    "colab": {
     "autoexec": {
      "startup": false,
      "wait_interval": 0
     }
    },
    "colab_type": "code",
    "id": "xd5AtVJ0MQDZ"
   },
   "outputs": [
    {
     "data": {
      "text/plain": [
       "'1.8.0'"
      ]
     },
     "execution_count": 13,
     "metadata": {},
     "output_type": "execute_result"
    }
   ],
   "source": [
    "tf.__version__\n"
   ]
  },
  {
   "cell_type": "code",
   "execution_count": 14,
   "metadata": {
    "colab": {
     "autoexec": {
      "startup": false,
      "wait_interval": 0
     }
    },
    "colab_type": "code",
    "id": "q4IPf6I9MQDb"
   },
   "outputs": [],
   "source": [
    "reshaped=tf.reshape(bn4,[-1,9*10*3])"
   ]
  },
  {
   "cell_type": "code",
   "execution_count": 15,
   "metadata": {
    "colab": {
     "autoexec": {
      "startup": false,
      "wait_interval": 0
     },
     "base_uri": "https://localhost:8080/",
     "height": 34
    },
    "colab_type": "code",
    "executionInfo": {
     "elapsed": 831,
     "status": "ok",
     "timestamp": 1526869048319,
     "user": {
      "displayName": "Adithya Hosapate",
      "photoUrl": "https://lh3.googleusercontent.com/a/default-user=s128",
      "userId": "109072346189302980527"
     },
     "user_tz": -330
    },
    "id": "rDokY1O5MQDd",
    "outputId": "52a24eca-6c95-484b-bf62-5ad86489abd0"
   },
   "outputs": [
    {
     "data": {
      "text/plain": [
       "<tf.Tensor 'concat:0' shape=(?, 370) dtype=float32>"
      ]
     },
     "execution_count": 15,
     "metadata": {},
     "output_type": "execute_result"
    }
   ],
   "source": [
    "concatenate=tf.concat([reshaped,fc_1],axis=-1)\n",
    "concatenate"
   ]
  },
  {
   "cell_type": "code",
   "execution_count": 16,
   "metadata": {
    "colab": {
     "autoexec": {
      "startup": false,
      "wait_interval": 0
     }
    },
    "colab_type": "code",
    "id": "iis-0Q8REYIW"
   },
   "outputs": [],
   "source": [
    "\n",
    "fc_2=tf.add(tf.matmul(concatenate,w3),b3)"
   ]
  },
  {
   "cell_type": "code",
   "execution_count": 17,
   "metadata": {
    "colab": {
     "autoexec": {
      "startup": false,
      "wait_interval": 0
     },
     "base_uri": "https://localhost:8080/",
     "height": 34
    },
    "colab_type": "code",
    "executionInfo": {
     "elapsed": 824,
     "status": "ok",
     "timestamp": 1526869050230,
     "user": {
      "displayName": "Adithya Hosapate",
      "photoUrl": "https://lh3.googleusercontent.com/a/default-user=s128",
      "userId": "109072346189302980527"
     },
     "user_tz": -330
    },
    "id": "vkuvtXuwMQDi",
    "outputId": "f89eeed8-6c93-46d6-b46e-00e1fd4bc45b"
   },
   "outputs": [
    {
     "name": "stdout",
     "output_type": "stream",
     "text": [
      "Tensor(\"Tanh_1:0\", shape=(1, ?, 100), dtype=float32)\n"
     ]
    }
   ],
   "source": [
    "flattened=slim.flatten(fc_2)\n",
    "convFlat=tf.nn.tanh(tf.reshape(flattened,[1,train_length,100]))\n",
    "rnn_cell = tf.contrib.rnn.BasicLSTMCell(100)\n",
    "# seq = tf.split(concatenate,tf.reduce_mean(concatenate,input_length[0])\n",
    "#             ,axis=0)\n",
    "# seq\n",
    "rnn_cell.state_size\n",
    "print(convFlat)"
   ]
  },
  {
   "cell_type": "code",
   "execution_count": 18,
   "metadata": {
    "colab": {
     "autoexec": {
      "startup": false,
      "wait_interval": 0
     },
     "base_uri": "https://localhost:8080/",
     "height": 34
    },
    "colab_type": "code",
    "executionInfo": {
     "elapsed": 790,
     "status": "ok",
     "timestamp": 1526869051150,
     "user": {
      "displayName": "Adithya Hosapate",
      "photoUrl": "https://lh3.googleusercontent.com/a/default-user=s128",
      "userId": "109072346189302980527"
     },
     "user_tz": -330
    },
    "id": "VdSSWHNfMQDl",
    "outputId": "aa9f0059-5066-4867-9455-9bf8a5f73a50"
   },
   "outputs": [
    {
     "data": {
      "text/plain": [
       "<tf.Tensor 'rnn/transpose_1:0' shape=(1, ?, 100) dtype=float32>"
      ]
     },
     "execution_count": 18,
     "metadata": {},
     "output_type": "execute_result"
    }
   ],
   "source": [
    "outputs, states = tf.nn.dynamic_rnn(rnn_cell, convFlat, dtype=tf.float32,\n",
    "                                   initial_state=tf.nn.rnn_cell.LSTMStateTuple(hidden_state,cell_state))\n",
    "outputs"
   ]
  },
  {
   "cell_type": "code",
   "execution_count": 19,
   "metadata": {
    "colab": {
     "autoexec": {
      "startup": false,
      "wait_interval": 0
     }
    },
    "colab_type": "code",
    "id": "Rn3IRtF4MQDq"
   },
   "outputs": [],
   "source": [
    "final_output=tf.reshape(outputs[0,-1],[1,100])\n",
    "logits=tf.add(tf.matmul(final_output,w2),b2)\n",
    "loss=tf.square(tf.reduce_max(logits)-q_val)\n",
    "optimizer = tf.train.GradientDescentOptimizer(0.0001)\n",
    "\n",
    "train=optimizer.minimize(loss)\n"
   ]
  },
  {
   "cell_type": "code",
   "execution_count": 20,
   "metadata": {
    "colab": {
     "autoexec": {
      "startup": false,
      "wait_interval": 0
     }
    },
    "colab_type": "code",
    "id": "MbM7zj-rMQDs"
   },
   "outputs": [],
   "source": [
    "\n",
    "\n",
    "sess.run(tf.global_variables_initializer())\n",
    "saver = tf.train.Saver()\n",
    "\n"
   ]
  },
  {
   "cell_type": "code",
   "execution_count": 21,
   "metadata": {
    "colab": {
     "autoexec": {
      "startup": false,
      "wait_interval": 0
     },
     "base_uri": "https://localhost:8080/",
     "height": 34
    },
    "colab_type": "code",
    "executionInfo": {
     "elapsed": 926,
     "status": "ok",
     "timestamp": 1526869064123,
     "user": {
      "displayName": "Adithya Hosapate",
      "photoUrl": "https://lh3.googleusercontent.com/a/default-user=s128",
      "userId": "109072346189302980527"
     },
     "user_tz": -330
    },
    "id": "UAGAmEP9MQDt",
    "outputId": "91d85e4d-b4af-4f9c-ad29-5a964ad1a22a"
   },
   "outputs": [
    {
     "data": {
      "text/plain": [
       "LSTMStateTuple(c=<tf.Tensor 'rnn/while/Exit_3:0' shape=(1, 100) dtype=float32>, h=<tf.Tensor 'rnn/while/Exit_4:0' shape=(1, 100) dtype=float32>)"
      ]
     },
     "execution_count": 21,
     "metadata": {},
     "output_type": "execute_result"
    }
   ],
   "source": [
    "states"
   ]
  },
  {
   "cell_type": "code",
   "execution_count": 22,
   "metadata": {
    "colab": {
     "autoexec": {
      "startup": false,
      "wait_interval": 0
     }
    },
    "colab_type": "code",
    "id": "nZdqdGhKMQDv"
   },
   "outputs": [],
   "source": [
    "def softmax(X):\n",
    "    return 1/(1+np.exp(-X))"
   ]
  },
  {
   "cell_type": "code",
   "execution_count": 23,
   "metadata": {
    "colab": {
     "autoexec": {
      "startup": false,
      "wait_interval": 0
     }
    },
    "colab_type": "code",
    "id": "pLUkIyN1MQDx"
   },
   "outputs": [],
   "source": [
    "def forward_pass(input_tens,action_tens,hidden_state_vec,cell_state_vec):\n",
    "        probs,hidden=sess.run([logits,states],feed_dict={input_tensor:input_tens,\n",
    "                                           labels:action_tens,\n",
    "                                           in_training_mode:False,\n",
    "                                           hidden_state:hidden_state_vec,\n",
    "                                            cell_state:cell_state_vec,\n",
    "                                                         train_length:1\n",
    "                                               })\n",
    "        return probs,hidden\n",
    "    "
   ]
  },
  {
   "cell_type": "code",
   "execution_count": 24,
   "metadata": {
    "colab": {
     "autoexec": {
      "startup": false,
      "wait_interval": 0
     }
    },
    "colab_type": "code",
    "id": "rwhu_Y0wMQDz"
   },
   "outputs": [],
   "source": [
    "#create Replay memory\n",
    "\n",
    "def create_replay_memory(size,epsillon,render=False):\n",
    "    action_tensor=np.array([0.0,0.0],\"float32\")\n",
    "    env=gym.make(\"Pong-v0\")\n",
    "    prev_observation=env.reset()\n",
    "    replay_memory=[]\n",
    "    aggregate=np.array([0.0,0.0])\n",
    "    hidden_stat=np.zeros((1,100))\n",
    "    cell_stat=np.zeros((1,100))\n",
    "    total_reward=0\n",
    "    for i in range(size):\n",
    "        if render==True:\n",
    "            env.render()\n",
    "        next_action=np.array([0.0,0.0])\n",
    "\n",
    "        \n",
    "       \n",
    "\n",
    "        probs,hidden=forward_pass(np.array([prev_observation]),\n",
    "                                 np.array([action_tensor]),\n",
    "                                  hidden_stat,\n",
    "                                  cell_stat)\n",
    "        \n",
    "        if np.random.uniform()<epsillon: \n",
    "            observation, reward, done, info=env.step(np.argmax(softmax(probs[0]))+2)\n",
    "            next_action[np.argmax(softmax(probs[0]))]=1.0            \n",
    "        else:\n",
    "            \n",
    "            if np.random.uniform()<0.5:\n",
    "                choice=2\n",
    "            else:\n",
    "                choice=3\n",
    "            observation, reward, done, info=env.step(choice)\n",
    "            \n",
    "            next_action[choice-2]=1.0\n",
    "            \n",
    "\n",
    "            \n",
    "        total_reward+=reward                                             \n",
    "        if done==True:\n",
    "            prev_observation= env.reset() \n",
    "            action_tensor=np.array([0.0,0.0],\"float32\")\n",
    "            hidden_stat=np.zeros((1,100))\n",
    "            cell_stat=np.zeros((1,100))\n",
    "\n",
    "\n",
    "            \n",
    "        else:    \n",
    "            replay_memory.append({'a_t_1':action_tensor,\n",
    "                                  'o_t':prev_observation/255,\n",
    "                                  'r_t':reward,\n",
    "                                  'a_t':next_action,\n",
    "                                  'o_t_1':observation/255,\n",
    "                                  'h_t':hidden.h,\n",
    "                                 'c_t':hidden.c,\n",
    "                                  'h_t_1':hidden_stat,\n",
    "                                 'c_t_1':cell_stat})\n",
    "            action_tensor=next_action\n",
    "            prev_observation=observation\n",
    "            hidden_stat=hidden.h\n",
    "            cell_stat=hidden.c\n",
    "            aggregate+=next_action\n",
    "            \n",
    "        \n",
    "    print(total_reward)\n",
    "    print(aggregate)\n",
    "    return replay_memory"
   ]
  },
  {
   "cell_type": "code",
   "execution_count": 33,
   "metadata": {
    "colab": {
     "autoexec": {
      "startup": false,
      "wait_interval": 0
     },
     "base_uri": "https://localhost:8080/",
     "height": 51
    },
    "colab_type": "code",
    "executionInfo": {
     "elapsed": 6818,
     "status": "ok",
     "timestamp": 1526869154619,
     "user": {
      "displayName": "Adithya Hosapate",
      "photoUrl": "https://lh3.googleusercontent.com/a/default-user=s128",
      "userId": "109072346189302980527"
     },
     "user_tz": -330
    },
    "id": "UqFas1dpMQD1",
    "outputId": "a8da74a4-9c6f-4e70-f167-44965473b715"
   },
   "outputs": [
    {
     "name": "stdout",
     "output_type": "stream",
     "text": [
      "-20.0\n",
      "[1000.    0.]\n"
     ]
    }
   ],
   "source": [
    "\n",
    "\n",
    "memory=create_replay_memory(1000,1,render=True) "
   ]
  },
  {
   "cell_type": "code",
   "execution_count": 25,
   "metadata": {
    "colab": {
     "autoexec": {
      "startup": false,
      "wait_interval": 0
     }
    },
    "colab_type": "code",
    "id": "av9BYIkHMQD3"
   },
   "outputs": [],
   "source": [
    "def random_sample(array,length):\n",
    "    index=int(np.random.uniform(10,length-20))\n",
    "    sample=array[index:index+10]\n",
    "    action_list=[a['a_t_1'] for a in sample]\n",
    "    obs_list=[o['o_t'] for o in sample]\n",
    "    initial_hidden=sample[0]['h_t_1']\n",
    "    initial_cell=sample[0]['c_t_1']\n",
    "    return (action_list,obs_list,initial_hidden,initial_cell,sample)"
   ]
  },
  {
   "cell_type": "code",
   "execution_count": 26,
   "metadata": {
    "colab": {
     "autoexec": {
      "startup": false,
      "wait_interval": 0
     }
    },
    "colab_type": "code",
    "id": "fRpRBKuwMQD5"
   },
   "outputs": [],
   "source": [
    "def train_network(iterations,length):\n",
    "    for i in range(iterations):\n",
    "        lo_sum=np.array([0.0])\n",
    "        action_list,obs_list,initial_hidden,initial_cell,sample=random_sample(memory,length)\n",
    "        final_hidden,final_cell,final_obs,final_action,final_reward=sample[-1]['h_t'],sample[-1]['c_t'],\\\n",
    "                                                                    sample[-1]['o_t'],sample[-1]['a_t'],\\\n",
    "                                                                    sample[-1]['r_t']\n",
    "            \n",
    "        #run through target network to get q values\n",
    "        probs,hidden=forward_pass(np.array([final_obs]),np.array([final_action]),final_cell,final_hidden)\n",
    "        q_value=final_reward+alpha*np.max(probs)\n",
    "        \n",
    "        #training_pass\n",
    "        lo,_=sess.run([loss,train],feed_dict={input_tensor:np.array(obs_list),\n",
    "                                           labels:np.array(action_list),\n",
    "                                           in_training_mode:True,\n",
    "                                           hidden_state:np.zeros([1,100]),\n",
    "                                            cell_state:np.zeros([1,100]),\n",
    "                                                  q_val:np.array([q_value]),\n",
    "                                              train_length:10\n",
    "                                               })\n",
    "        lo_sum+=lo\n",
    "        if i%100==0:\n",
    "            print('loss: {}'.format(lo_sum[0]))  "
   ]
  },
  {
   "cell_type": "code",
   "execution_count": 33,
   "metadata": {
    "colab": {
     "autoexec": {
      "startup": false,
      "wait_interval": 0
     },
     "base_uri": "https://localhost:8080/",
     "height": 55532
    },
    "colab_type": "code",
    "executionInfo": {
     "elapsed": 8015387,
     "status": "error",
     "timestamp": 1526877174054,
     "user": {
      "displayName": "Adithya Hosapate",
      "photoUrl": "https://lh3.googleusercontent.com/a/default-user=s128",
      "userId": "109072346189302980527"
     },
     "user_tz": -330
    },
    "id": "JPke9-LlMQD7",
    "outputId": "81bfe908-3d19-4eaa-de44-8447dd4284d6",
    "scrolled": true
   },
   "outputs": [
    {
     "name": "stdout",
     "output_type": "stream",
     "text": [
      "-18.0\n",
      "[ 79. 921.]\n",
      "episode:0\n",
      "loss: 7.851629197830334e-05\n",
      "-13.0\n",
      "[133. 867.]\n",
      "episode:1\n",
      "loss: 0.02512509934604168\n",
      "-18.0\n",
      "[ 68. 932.]\n",
      "episode:2\n"
     ]
    },
    {
     "ename": "KeyboardInterrupt",
     "evalue": "",
     "output_type": "error",
     "traceback": [
      "\u001b[0;31m---------------------------------------------------------------------------\u001b[0m",
      "\u001b[0;31mKeyboardInterrupt\u001b[0m                         Traceback (most recent call last)",
      "\u001b[0;32m<ipython-input-33-853867f4910b>\u001b[0m in \u001b[0;36m<module>\u001b[0;34m()\u001b[0m\n\u001b[1;32m      2\u001b[0m     \u001b[0mmemory\u001b[0m\u001b[0;34m=\u001b[0m\u001b[0mcreate_replay_memory\u001b[0m\u001b[0;34m(\u001b[0m\u001b[0;36m1000\u001b[0m\u001b[0;34m,\u001b[0m\u001b[0;36m0.95\u001b[0m\u001b[0;34m,\u001b[0m\u001b[0mrender\u001b[0m\u001b[0;34m=\u001b[0m\u001b[0;32mTrue\u001b[0m\u001b[0;34m)\u001b[0m\u001b[0;34m\u001b[0m\u001b[0m\n\u001b[1;32m      3\u001b[0m     \u001b[0mprint\u001b[0m\u001b[0;34m(\u001b[0m\u001b[0;34m\"episode:{}\"\u001b[0m\u001b[0;34m.\u001b[0m\u001b[0mformat\u001b[0m\u001b[0;34m(\u001b[0m\u001b[0mi\u001b[0m\u001b[0;34m)\u001b[0m\u001b[0;34m)\u001b[0m\u001b[0;34m\u001b[0m\u001b[0m\n\u001b[0;32m----> 4\u001b[0;31m     \u001b[0mtrain_network\u001b[0m\u001b[0;34m(\u001b[0m\u001b[0;36m100\u001b[0m\u001b[0;34m,\u001b[0m\u001b[0;36m1000\u001b[0m\u001b[0;34m)\u001b[0m\u001b[0;34m\u001b[0m\u001b[0m\n\u001b[0m\u001b[1;32m      5\u001b[0m \u001b[0;34m\u001b[0m\u001b[0m\n\u001b[1;32m      6\u001b[0m \u001b[0;34m\u001b[0m\u001b[0m\n",
      "\u001b[0;32m<ipython-input-26-738880629ed9>\u001b[0m in \u001b[0;36mtrain_network\u001b[0;34m(iterations, length)\u001b[0m\n\u001b[1;32m      6\u001b[0m \u001b[0;34m\u001b[0m\u001b[0m\n\u001b[1;32m      7\u001b[0m         \u001b[0;31m#run through target network to get q values\u001b[0m\u001b[0;34m\u001b[0m\u001b[0;34m\u001b[0m\u001b[0m\n\u001b[0;32m----> 8\u001b[0;31m         \u001b[0mprobs\u001b[0m\u001b[0;34m,\u001b[0m\u001b[0mhidden\u001b[0m\u001b[0;34m=\u001b[0m\u001b[0mforward_pass\u001b[0m\u001b[0;34m(\u001b[0m\u001b[0mnp\u001b[0m\u001b[0;34m.\u001b[0m\u001b[0marray\u001b[0m\u001b[0;34m(\u001b[0m\u001b[0;34m[\u001b[0m\u001b[0mfinal_obs\u001b[0m\u001b[0;34m]\u001b[0m\u001b[0;34m)\u001b[0m\u001b[0;34m,\u001b[0m\u001b[0mnp\u001b[0m\u001b[0;34m.\u001b[0m\u001b[0marray\u001b[0m\u001b[0;34m(\u001b[0m\u001b[0;34m[\u001b[0m\u001b[0mfinal_action\u001b[0m\u001b[0;34m]\u001b[0m\u001b[0;34m)\u001b[0m\u001b[0;34m,\u001b[0m\u001b[0mfinal_cell\u001b[0m\u001b[0;34m,\u001b[0m\u001b[0mfinal_hidden\u001b[0m\u001b[0;34m)\u001b[0m\u001b[0;34m\u001b[0m\u001b[0m\n\u001b[0m\u001b[1;32m      9\u001b[0m         \u001b[0mq_value\u001b[0m\u001b[0;34m=\u001b[0m\u001b[0mfinal_reward\u001b[0m\u001b[0;34m+\u001b[0m\u001b[0malpha\u001b[0m\u001b[0;34m*\u001b[0m\u001b[0mnp\u001b[0m\u001b[0;34m.\u001b[0m\u001b[0mmax\u001b[0m\u001b[0;34m(\u001b[0m\u001b[0mprobs\u001b[0m\u001b[0;34m)\u001b[0m\u001b[0;34m\u001b[0m\u001b[0m\n\u001b[1;32m     10\u001b[0m \u001b[0;34m\u001b[0m\u001b[0m\n",
      "\u001b[0;32m<ipython-input-23-d10c92bd79fa>\u001b[0m in \u001b[0;36mforward_pass\u001b[0;34m(input_tens, action_tens, hidden_state_vec, cell_state_vec)\u001b[0m\n\u001b[1;32m      5\u001b[0m                                            \u001b[0mhidden_state\u001b[0m\u001b[0;34m:\u001b[0m\u001b[0mhidden_state_vec\u001b[0m\u001b[0;34m,\u001b[0m\u001b[0;34m\u001b[0m\u001b[0m\n\u001b[1;32m      6\u001b[0m                                             \u001b[0mcell_state\u001b[0m\u001b[0;34m:\u001b[0m\u001b[0mcell_state_vec\u001b[0m\u001b[0;34m,\u001b[0m\u001b[0;34m\u001b[0m\u001b[0m\n\u001b[0;32m----> 7\u001b[0;31m                                                          \u001b[0mtrain_length\u001b[0m\u001b[0;34m:\u001b[0m\u001b[0;36m1\u001b[0m\u001b[0;34m\u001b[0m\u001b[0m\n\u001b[0m\u001b[1;32m      8\u001b[0m                                                })\n\u001b[1;32m      9\u001b[0m         \u001b[0;32mreturn\u001b[0m \u001b[0mprobs\u001b[0m\u001b[0;34m,\u001b[0m\u001b[0mhidden\u001b[0m\u001b[0;34m\u001b[0m\u001b[0m\n",
      "\u001b[0;32m~/.local/lib/python3.6/site-packages/tensorflow/python/client/session.py\u001b[0m in \u001b[0;36mrun\u001b[0;34m(self, fetches, feed_dict, options, run_metadata)\u001b[0m\n\u001b[1;32m    898\u001b[0m     \u001b[0;32mtry\u001b[0m\u001b[0;34m:\u001b[0m\u001b[0;34m\u001b[0m\u001b[0m\n\u001b[1;32m    899\u001b[0m       result = self._run(None, fetches, feed_dict, options_ptr,\n\u001b[0;32m--> 900\u001b[0;31m                          run_metadata_ptr)\n\u001b[0m\u001b[1;32m    901\u001b[0m       \u001b[0;32mif\u001b[0m \u001b[0mrun_metadata\u001b[0m\u001b[0;34m:\u001b[0m\u001b[0;34m\u001b[0m\u001b[0m\n\u001b[1;32m    902\u001b[0m         \u001b[0mproto_data\u001b[0m \u001b[0;34m=\u001b[0m \u001b[0mtf_session\u001b[0m\u001b[0;34m.\u001b[0m\u001b[0mTF_GetBuffer\u001b[0m\u001b[0;34m(\u001b[0m\u001b[0mrun_metadata_ptr\u001b[0m\u001b[0;34m)\u001b[0m\u001b[0;34m\u001b[0m\u001b[0m\n",
      "\u001b[0;32m~/.local/lib/python3.6/site-packages/tensorflow/python/client/session.py\u001b[0m in \u001b[0;36m_run\u001b[0;34m(self, handle, fetches, feed_dict, options, run_metadata)\u001b[0m\n\u001b[1;32m   1133\u001b[0m     \u001b[0;32mif\u001b[0m \u001b[0mfinal_fetches\u001b[0m \u001b[0;32mor\u001b[0m \u001b[0mfinal_targets\u001b[0m \u001b[0;32mor\u001b[0m \u001b[0;34m(\u001b[0m\u001b[0mhandle\u001b[0m \u001b[0;32mand\u001b[0m \u001b[0mfeed_dict_tensor\u001b[0m\u001b[0;34m)\u001b[0m\u001b[0;34m:\u001b[0m\u001b[0;34m\u001b[0m\u001b[0m\n\u001b[1;32m   1134\u001b[0m       results = self._do_run(handle, final_targets, final_fetches,\n\u001b[0;32m-> 1135\u001b[0;31m                              feed_dict_tensor, options, run_metadata)\n\u001b[0m\u001b[1;32m   1136\u001b[0m     \u001b[0;32melse\u001b[0m\u001b[0;34m:\u001b[0m\u001b[0;34m\u001b[0m\u001b[0m\n\u001b[1;32m   1137\u001b[0m       \u001b[0mresults\u001b[0m \u001b[0;34m=\u001b[0m \u001b[0;34m[\u001b[0m\u001b[0;34m]\u001b[0m\u001b[0;34m\u001b[0m\u001b[0m\n",
      "\u001b[0;32m~/.local/lib/python3.6/site-packages/tensorflow/python/client/session.py\u001b[0m in \u001b[0;36m_do_run\u001b[0;34m(self, handle, target_list, fetch_list, feed_dict, options, run_metadata)\u001b[0m\n\u001b[1;32m   1314\u001b[0m     \u001b[0;32mif\u001b[0m \u001b[0mhandle\u001b[0m \u001b[0;32mis\u001b[0m \u001b[0;32mNone\u001b[0m\u001b[0;34m:\u001b[0m\u001b[0;34m\u001b[0m\u001b[0m\n\u001b[1;32m   1315\u001b[0m       return self._do_call(_run_fn, feeds, fetches, targets, options,\n\u001b[0;32m-> 1316\u001b[0;31m                            run_metadata)\n\u001b[0m\u001b[1;32m   1317\u001b[0m     \u001b[0;32melse\u001b[0m\u001b[0;34m:\u001b[0m\u001b[0;34m\u001b[0m\u001b[0m\n\u001b[1;32m   1318\u001b[0m       \u001b[0;32mreturn\u001b[0m \u001b[0mself\u001b[0m\u001b[0;34m.\u001b[0m\u001b[0m_do_call\u001b[0m\u001b[0;34m(\u001b[0m\u001b[0m_prun_fn\u001b[0m\u001b[0;34m,\u001b[0m \u001b[0mhandle\u001b[0m\u001b[0;34m,\u001b[0m \u001b[0mfeeds\u001b[0m\u001b[0;34m,\u001b[0m \u001b[0mfetches\u001b[0m\u001b[0;34m)\u001b[0m\u001b[0;34m\u001b[0m\u001b[0m\n",
      "\u001b[0;32m~/.local/lib/python3.6/site-packages/tensorflow/python/client/session.py\u001b[0m in \u001b[0;36m_do_call\u001b[0;34m(self, fn, *args)\u001b[0m\n\u001b[1;32m   1320\u001b[0m   \u001b[0;32mdef\u001b[0m \u001b[0m_do_call\u001b[0m\u001b[0;34m(\u001b[0m\u001b[0mself\u001b[0m\u001b[0;34m,\u001b[0m \u001b[0mfn\u001b[0m\u001b[0;34m,\u001b[0m \u001b[0;34m*\u001b[0m\u001b[0margs\u001b[0m\u001b[0;34m)\u001b[0m\u001b[0;34m:\u001b[0m\u001b[0;34m\u001b[0m\u001b[0m\n\u001b[1;32m   1321\u001b[0m     \u001b[0;32mtry\u001b[0m\u001b[0;34m:\u001b[0m\u001b[0;34m\u001b[0m\u001b[0m\n\u001b[0;32m-> 1322\u001b[0;31m       \u001b[0;32mreturn\u001b[0m \u001b[0mfn\u001b[0m\u001b[0;34m(\u001b[0m\u001b[0;34m*\u001b[0m\u001b[0margs\u001b[0m\u001b[0;34m)\u001b[0m\u001b[0;34m\u001b[0m\u001b[0m\n\u001b[0m\u001b[1;32m   1323\u001b[0m     \u001b[0;32mexcept\u001b[0m \u001b[0merrors\u001b[0m\u001b[0;34m.\u001b[0m\u001b[0mOpError\u001b[0m \u001b[0;32mas\u001b[0m \u001b[0me\u001b[0m\u001b[0;34m:\u001b[0m\u001b[0;34m\u001b[0m\u001b[0m\n\u001b[1;32m   1324\u001b[0m       \u001b[0mmessage\u001b[0m \u001b[0;34m=\u001b[0m \u001b[0mcompat\u001b[0m\u001b[0;34m.\u001b[0m\u001b[0mas_text\u001b[0m\u001b[0;34m(\u001b[0m\u001b[0me\u001b[0m\u001b[0;34m.\u001b[0m\u001b[0mmessage\u001b[0m\u001b[0;34m)\u001b[0m\u001b[0;34m\u001b[0m\u001b[0m\n",
      "\u001b[0;32m~/.local/lib/python3.6/site-packages/tensorflow/python/client/session.py\u001b[0m in \u001b[0;36m_run_fn\u001b[0;34m(feed_dict, fetch_list, target_list, options, run_metadata)\u001b[0m\n\u001b[1;32m   1305\u001b[0m       \u001b[0mself\u001b[0m\u001b[0;34m.\u001b[0m\u001b[0m_extend_graph\u001b[0m\u001b[0;34m(\u001b[0m\u001b[0;34m)\u001b[0m\u001b[0;34m\u001b[0m\u001b[0m\n\u001b[1;32m   1306\u001b[0m       return self._call_tf_sessionrun(\n\u001b[0;32m-> 1307\u001b[0;31m           options, feed_dict, fetch_list, target_list, run_metadata)\n\u001b[0m\u001b[1;32m   1308\u001b[0m \u001b[0;34m\u001b[0m\u001b[0m\n\u001b[1;32m   1309\u001b[0m     \u001b[0;32mdef\u001b[0m \u001b[0m_prun_fn\u001b[0m\u001b[0;34m(\u001b[0m\u001b[0mhandle\u001b[0m\u001b[0;34m,\u001b[0m \u001b[0mfeed_dict\u001b[0m\u001b[0;34m,\u001b[0m \u001b[0mfetch_list\u001b[0m\u001b[0;34m)\u001b[0m\u001b[0;34m:\u001b[0m\u001b[0;34m\u001b[0m\u001b[0m\n",
      "\u001b[0;32m~/.local/lib/python3.6/site-packages/tensorflow/python/client/session.py\u001b[0m in \u001b[0;36m_call_tf_sessionrun\u001b[0;34m(self, options, feed_dict, fetch_list, target_list, run_metadata)\u001b[0m\n\u001b[1;32m   1407\u001b[0m       return tf_session.TF_SessionRun_wrapper(\n\u001b[1;32m   1408\u001b[0m           \u001b[0mself\u001b[0m\u001b[0;34m.\u001b[0m\u001b[0m_session\u001b[0m\u001b[0;34m,\u001b[0m \u001b[0moptions\u001b[0m\u001b[0;34m,\u001b[0m \u001b[0mfeed_dict\u001b[0m\u001b[0;34m,\u001b[0m \u001b[0mfetch_list\u001b[0m\u001b[0;34m,\u001b[0m \u001b[0mtarget_list\u001b[0m\u001b[0;34m,\u001b[0m\u001b[0;34m\u001b[0m\u001b[0m\n\u001b[0;32m-> 1409\u001b[0;31m           run_metadata)\n\u001b[0m\u001b[1;32m   1410\u001b[0m     \u001b[0;32melse\u001b[0m\u001b[0;34m:\u001b[0m\u001b[0;34m\u001b[0m\u001b[0m\n\u001b[1;32m   1411\u001b[0m       \u001b[0;32mwith\u001b[0m \u001b[0merrors\u001b[0m\u001b[0;34m.\u001b[0m\u001b[0mraise_exception_on_not_ok_status\u001b[0m\u001b[0;34m(\u001b[0m\u001b[0;34m)\u001b[0m \u001b[0;32mas\u001b[0m \u001b[0mstatus\u001b[0m\u001b[0;34m:\u001b[0m\u001b[0;34m\u001b[0m\u001b[0m\n",
      "\u001b[0;31mKeyboardInterrupt\u001b[0m: "
     ]
    }
   ],
   "source": [
    "for i in range(1000):\n",
    "    memory=create_replay_memory(1000,0.95,render=True) \n",
    "    print(\"episode:{}\".format(i))\n",
    "    train_network(100,1000)\n",
    "\n",
    "    "
   ]
  },
  {
   "cell_type": "code",
   "execution_count": 35,
   "metadata": {
    "colab": {
     "autoexec": {
      "startup": false,
      "wait_interval": 0
     },
     "base_uri": "https://localhost:8080/",
     "height": 34
    },
    "colab_type": "code",
    "executionInfo": {
     "elapsed": 920,
     "status": "ok",
     "timestamp": 1526877177810,
     "user": {
      "displayName": "Adithya Hosapate",
      "photoUrl": "https://lh3.googleusercontent.com/a/default-user=s128",
      "userId": "109072346189302980527"
     },
     "user_tz": -330
    },
    "id": "F-qKh23jMQEA",
    "outputId": "a0e5352e-004a-4908-d121-015e3ae290e0"
   },
   "outputs": [
    {
     "name": "stdout",
     "output_type": "stream",
     "text": [
      "Model saved in path: tmp/model_100_epochs.ckpt\n"
     ]
    }
   ],
   "source": [
    "save_path = saver.save(sess, \"tmp/model_100_epochs.ckpt\")\n",
    "print(\"Model saved in path: %s\" % save_path)  \n",
    "  \n",
    "\n"
   ]
  },
  {
   "cell_type": "code",
   "execution_count": null,
   "metadata": {
    "colab": {
     "autoexec": {
      "startup": false,
      "wait_interval": 0
     },
     "base_uri": "https://localhost:8080/",
     "height": 51
    },
    "colab_type": "code",
    "executionInfo": {
     "elapsed": 2147,
     "status": "ok",
     "timestamp": 1526877187781,
     "user": {
      "displayName": "Adithya Hosapate",
      "photoUrl": "https://lh3.googleusercontent.com/a/default-user=s128",
      "userId": "109072346189302980527"
     },
     "user_tz": -330
    },
    "id": "RkO0uAwjntRX",
    "outputId": "4516590c-b630-42c0-95d2-db6557fe28ce"
   },
   "outputs": [],
   "source": [
    "!ls tmp/"
   ]
  },
  {
   "cell_type": "code",
   "execution_count": null,
   "metadata": {
    "colab": {
     "autoexec": {
      "startup": false,
      "wait_interval": 0
     },
     "base_uri": "https://localhost:8080/",
     "height": 51
    },
    "colab_type": "code",
    "executionInfo": {
     "elapsed": 7806,
     "status": "ok",
     "timestamp": 1526877201610,
     "user": {
      "displayName": "Adithya Hosapate",
      "photoUrl": "https://lh3.googleusercontent.com/a/default-user=s128",
      "userId": "109072346189302980527"
     },
     "user_tz": -330
    },
    "id": "FIAAPsKmMQED",
    "outputId": "9981a5c7-1f0c-477f-aa3f-273e5854f4d9"
   },
   "outputs": [],
   "source": [
    "from google.colab import files\n",
    "!ls tmp/\n",
    "\n",
    "\n",
    "files.download('tmp/checkpoint')\n",
    "files.download('tmp/model_100_epochs.ckpt.data-00000-of-00001')\n",
    "files.download('tmp/model_100_epochs.ckpt.index')\n",
    "files.download('tmp/model_100_epochs.ckpt.meta')\n",
    "\n",
    "\n",
    "\n"
   ]
  },
  {
   "cell_type": "code",
   "execution_count": 32,
   "metadata": {
    "colab": {
     "autoexec": {
      "startup": false,
      "wait_interval": 0
     },
     "base_uri": "https://localhost:8080/",
     "height": 34
    },
    "colab_type": "code",
    "executionInfo": {
     "elapsed": 1801,
     "status": "ok",
     "timestamp": 1526628985032,
     "user": {
      "displayName": "superamazingguy com",
      "photoUrl": "https://lh3.googleusercontent.com/a/default-user=s128",
      "userId": "112366938353895998470"
     },
     "user_tz": -330
    },
    "id": "DB6VbQE2oT8W",
    "outputId": "d82d96cc-b095-4c82-fefe-8a3fe90d4081"
   },
   "outputs": [
    {
     "name": "stdout",
     "output_type": "stream",
     "text": [
      "INFO:tensorflow:Restoring parameters from ./new_weights/model_100_epochs.ckpt\n",
      "[ 2.90165899e-05  1.82738695e-05  5.05229036e-05 -5.81715199e-07\n",
      "  1.80585594e-05  4.27134955e-06  1.85739500e-05 -8.97728205e-06\n",
      " -7.20083608e-06 -2.46338259e-05 -9.15445617e-06  4.27714303e-06\n",
      " -2.09049085e-06  1.69393097e-05  6.88303908e-06  1.28516467e-06\n",
      " -4.08361739e-05 -9.84408689e-06 -2.61927016e-05  3.38725522e-06\n",
      " -1.76129015e-06 -6.53913639e-06  1.45678750e-05  1.17284280e-05\n",
      "  9.92782316e-06 -1.95280927e-06  9.68210770e-06  5.15530119e-05\n",
      "  1.69718642e-05  7.32752687e-06 -4.89312988e-05  7.23333869e-06\n",
      "  2.40035683e-06  2.42049791e-05  2.81521352e-06  1.00904745e-05\n",
      " -1.27832463e-05 -2.77402955e-06 -7.32917715e-06  1.77654056e-05\n",
      " -2.69641296e-05 -9.77892000e-07 -3.50454793e-05 -4.68125199e-06\n",
      " -6.98776830e-06  1.05977470e-05  6.15915633e-06 -1.02855956e-05\n",
      " -3.57612180e-07  2.28752942e-05 -3.71702736e-05  1.53016463e-05\n",
      " -8.14708255e-06  1.85057252e-05 -1.41846067e-06 -4.49880827e-06\n",
      "  6.27215059e-06  4.10603343e-06 -3.14468662e-06  1.36554718e-05\n",
      "  5.68654177e-05  9.52216487e-06 -3.72491595e-05 -4.90234061e-06\n",
      " -1.56056631e-05 -1.91777635e-05  6.73820580e-07  7.82624284e-07\n",
      "  1.42033059e-05  1.89164552e-06  5.51540325e-06  2.55315372e-05\n",
      "  1.06808599e-07  3.18938910e-05 -1.31889301e-05  8.97564951e-06\n",
      " -4.24530153e-05  5.55355882e-06  3.90255227e-05 -9.44370004e-06\n",
      "  9.34926084e-06  9.62864760e-06  1.12211160e-06 -7.78164303e-06\n",
      "  9.53220115e-06 -8.76263130e-06  1.12084917e-05  3.07982118e-05\n",
      "  7.08173911e-06 -2.28848203e-05  6.58811268e-06  6.25949724e-06\n",
      " -2.56314270e-05 -2.43355771e-06 -2.77546551e-05  3.56967575e-05\n",
      "  2.11648476e-05  1.74169218e-05  7.37148075e-05 -2.52661084e-05]\n",
      "-18.0\n",
      "[ 61. 939.]\n"
     ]
    }
   ],
   "source": [
    "\n",
    "new_saver = tf.train.import_meta_graph('./new_weights/model_100_epochs.ckpt.meta')\n",
    "\n",
    "\n",
    "new_saver.restore(sess,tf.train.latest_checkpoint('./new_weights/'))\n",
    "b_3=sess.run(b3)\n",
    "print(b_3)\n",
    "memory=create_replay_memory(1000,1) "
   ]
  },
  {
   "cell_type": "code",
   "execution_count": null,
   "metadata": {
    "colab": {
     "autoexec": {
      "startup": false,
      "wait_interval": 0
     },
     "base_uri": "https://localhost:8080/",
     "height": 247,
     "resources": {
      "http://localhost:8080/nbextensions/google.colab/files.js": {
       "data": "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",
       "headers": [
        [
         "content-type",
         "application/javascript"
        ]
       ],
       "ok": true,
       "status": 200,
       "status_text": ""
      }
     }
    },
    "colab_type": "code",
    "executionInfo": {
     "elapsed": 35077,
     "status": "ok",
     "timestamp": 1526627920865,
     "user": {
      "displayName": "superamazingguy com",
      "photoUrl": "https://lh3.googleusercontent.com/a/default-user=s128",
      "userId": "112366938353895998470"
     },
     "user_tz": -330
    },
    "id": "ylEI8kwoufJX",
    "outputId": "5815af32-b35a-47ec-db66-55f6c69726f6"
   },
   "outputs": [],
   "source": [
    "from google.colab import files\n",
    "\n",
    "uploaded = files.upload()\n",
    "\n",
    "for fn in uploaded.keys():\n",
    "  print('User uploaded file \"{name}\" with length {length} bytes'.format(\n",
    "      name=fn, length=len(uploaded[fn])))"
   ]
  }
 ],
 "metadata": {
  "accelerator": "GPU",
  "colab": {
   "collapsed_sections": [],
   "default_view": {},
   "name": "ARDQN.ipynb",
   "provenance": [],
   "version": "0.3.2",
   "views": {}
  },
  "kernelspec": {
   "display_name": "Python 3",
   "language": "python",
   "name": "python3"
  },
  "language_info": {
   "codemirror_mode": {
    "name": "ipython",
    "version": 3
   },
   "file_extension": ".py",
   "mimetype": "text/x-python",
   "name": "python",
   "nbconvert_exporter": "python",
   "pygments_lexer": "ipython3",
   "version": "3.6.3"
  }
 },
 "nbformat": 4,
 "nbformat_minor": 1
}
